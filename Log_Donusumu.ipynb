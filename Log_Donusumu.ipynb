{
  "nbformat": 4,
  "nbformat_minor": 0,
  "metadata": {
    "colab": {
      "provenance": []
    },
    "kernelspec": {
      "name": "python3",
      "display_name": "Python 3"
    },
    "language_info": {
      "name": "python"
    }
  },
  "cells": [
    {
      "cell_type": "code",
      "source": [
        "import pandas as pd\n",
        "import numpy as np\n",
        "\n",
        "data = pd.DataFrame({'value':[3,67, -17, 44, 37, 3, 31, -38]})\n",
        "data['log+1'] = np.log(data['value']+1)#Negative Values Handling\n",
        "#Note that the values are different\n",
        "data['log'] = np.log(data['value']-data['value'].min()+1)\n",
        "print(data)"
      ],
      "metadata": {
        "colab": {
          "base_uri": "https://localhost:8080/"
        },
        "id": "Xh7yd0q2qhc8",
        "outputId": "6e7c20c8-cd50-4421-8e5d-cec92effa93b"
      },
      "execution_count": 6,
      "outputs": [
        {
          "output_type": "stream",
          "name": "stdout",
          "text": [
            "   value     log+1       log\n",
            "0      3  1.386294  3.737670\n",
            "1     67  4.219508  4.663439\n",
            "2    -17       NaN  3.091042\n",
            "3     44  3.806662  4.418841\n",
            "4     37  3.637586  4.330733\n",
            "5      3  1.386294  3.737670\n",
            "6     31  3.465736  4.248495\n",
            "7    -38       NaN  0.000000\n"
          ]
        },
        {
          "output_type": "stream",
          "name": "stderr",
          "text": [
            "/usr/local/lib/python3.10/dist-packages/pandas/core/arraylike.py:402: RuntimeWarning: invalid value encountered in log\n",
            "  result = getattr(ufunc, method)(*inputs, **kwargs)\n"
          ]
        }
      ]
    }
  ]
}